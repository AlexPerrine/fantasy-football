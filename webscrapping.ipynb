{
 "cells": [
  {
   "cell_type": "markdown",
   "metadata": {},
   "source": [
    "# Scrapping the web to get NFL stats for all players from 2018-2021"
   ]
  },
  {
   "cell_type": "code",
   "execution_count": 3,
   "metadata": {},
   "outputs": [],
   "source": [
    "from urllib.request import urlopen\n",
    "from bs4 import BeautifulSoup\n",
    "import pandas as pd"
   ]
  },
  {
   "cell_type": "code",
   "execution_count": 19,
   "metadata": {},
   "outputs": [],
   "source": [
    "def playerStats(year):\n",
    "    year = str(year)\n",
    "    url = f\"https://www.pro-football-reference.com/years/{year}/fantasy.htm\"\n",
    "    html = urlopen(url)\n",
    "    soup = BeautifulSoup(html)\n",
    "\n",
    "    headers = [th.getText() for th in soup.findAll('tr')[1].findAll('th')]\n",
    "    headers = headers[1:] \n",
    "\n",
    "    rows = soup.findAll('tr', class_ = lambda table_rows: table_rows != \"thead\") \n",
    "    player_stats = [[td.getText() for td in rows[i].findAll('td')] for i in range(len(rows))] \n",
    "    player_stats = player_stats[2:]\n",
    "    \n",
    "    stats = pd.DataFrame(player_stats, columns = headers)\n",
    "    \n",
    "    stats = stats.replace(r'', 'N/A', regex=True)\n",
    "    stats['Year'] = year\n",
    "    \n",
    "    all_stats = pd.DataFrame()\n",
    "    all_stats = pd.concat([all_stats,stats])\n",
    "    \n",
    "    return stats\n",
    "    \n",
    "    #stats.to_csv(f'{year}playerstats.csv',index=False)"
   ]
  },
  {
   "cell_type": "code",
   "execution_count": 24,
   "metadata": {},
   "outputs": [],
   "source": [
    "def statsCombiner(years):\n",
    "    all_stats = pd.DataFrame()\n",
    "    for year in years:\n",
    "        all_stats = pd.concat([all_stats, playerStats(year)])\n",
    "    \n",
    "    return all_stats.to_csv('allPlayerStats.csv', index = False)\n",
    "        "
   ]
  },
  {
   "cell_type": "code",
   "execution_count": 25,
   "metadata": {},
   "outputs": [],
   "source": [
    "statsCombiner([2018,2019,2020,2021])"
   ]
  },
  {
   "cell_type": "code",
   "execution_count": null,
   "metadata": {},
   "outputs": [],
   "source": []
  }
 ],
 "metadata": {
  "kernelspec": {
   "display_name": "Python 3.9.12 ('base')",
   "language": "python",
   "name": "python3"
  },
  "language_info": {
   "codemirror_mode": {
    "name": "ipython",
    "version": 3
   },
   "file_extension": ".py",
   "mimetype": "text/x-python",
   "name": "python",
   "nbconvert_exporter": "python",
   "pygments_lexer": "ipython3",
   "version": "3.9.12"
  },
  "orig_nbformat": 4,
  "vscode": {
   "interpreter": {
    "hash": "7724e48cc64271251d14414e984617ef787366c92246fb6bda86e9b1aac0b8e2"
   }
  }
 },
 "nbformat": 4,
 "nbformat_minor": 2
}
